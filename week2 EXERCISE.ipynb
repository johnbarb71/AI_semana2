{
 "cells": [
  {
   "cell_type": "markdown",
   "id": "d006b2ea-9dfe-49c7-88a9-a5a0775185fd",
   "metadata": {},
   "source": [
    "# Ejercicio adicional de fin de semana - semana 2\n",
    "\n",
    "Ahora utilice todo lo que ha aprendido en la Semana 2 para crear un prototipo completo para la pregunta/respuesta técnica que creó en el Ejercicio de la Semana 1.\n",
    "\n",
    "Esto debería incluir una interfaz de usuario de Gradio, transmisión, uso del indicador del sistema para agregar experiencia y la capacidad de cambiar entre modelos. ¡Puntos de bonificación si puedes demostrar el uso de una herramienta!\n",
    "\n",
    "Si se siente atrevido, vea si puede agregar entrada de audio para poder hablar con él y hacer que responda con audio. ChatGPT o Claude pueden ayudarte o envíame un correo electrónico si tienes preguntas.\n",
    "\n",
    "Publicaré una solución completa aquí pronto, a menos que alguien me gane...\n",
    "\n",
    "Hay tantas aplicaciones comerciales para esto, desde un tutor de idiomas hasta una solución de incorporación empresarial, una IA complementaria y un curso (¡como este!) No puedo esperar a ver los resultados."
   ]
  },
  {
   "cell_type": "code",
   "execution_count": 1,
   "id": "a07e7793-b8f5-44f4-aded-5562f633271a",
   "metadata": {},
   "outputs": [],
   "source": [
    "# imports\n",
    "import os\n",
    "import json\n",
    "from dotenv import load_dotenv\n",
    "from openai import OpenAI\n",
    "import gradio as gr\n",
    "import ollama\n",
    "import time"
   ]
  },
  {
   "cell_type": "code",
   "execution_count": 2,
   "id": "b8a1bb2f-c6d1-4ace-9b65-548ad06a1c84",
   "metadata": {},
   "outputs": [
    {
     "name": "stdout",
     "output_type": "stream",
     "text": [
      "OpenAI API Key exists and begins sk-proj-\n"
     ]
    }
   ],
   "source": [
    "# Initialization\n",
    "\n",
    "load_dotenv()\n",
    "\n",
    "openai_api_key = os.getenv('OPENAI_API_KEY')\n",
    "\n",
    "if openai_api_key:\n",
    "    print(f\"OpenAI API Key exists and begins {openai_api_key[:8]}\")\n",
    "else:\n",
    "    print(\"OpenAI API Key not set\")\n",
    "    \n",
    "MODEL = \"gpt-4o-mini\"\n",
    "openai = OpenAI()"
   ]
  },
  {
   "cell_type": "code",
   "execution_count": 3,
   "id": "60ddb465-cef4-4edc-aa78-82c3c6a96a7d",
   "metadata": {},
   "outputs": [],
   "source": [
    "system_message = \"Eres un asistente útil para una empresa. \"\n",
    "system_message += \"Dé respuestas breves y corteses. \"\n",
    "system_message += \"Sea siempre preciso. Si no sabes la respuesta, dilo.\""
   ]
  },
  {
   "cell_type": "code",
   "execution_count": 4,
   "id": "31f39239-6687-416c-bb68-0dde72aef44b",
   "metadata": {},
   "outputs": [],
   "source": [
    "# Funciòn de extensión teléfonica\n",
    "\n",
    "ext_tele = {\"andres alvarez\": \"1001\", \"beatriz bravo\": \"1002\", \"carlos caceres\": \"1003\", \"diana díaz\": \"1004\", \"eduardo estévez\": \"1005\", \"fernanda figueroa\": \"1006\"}\n",
    "\n",
    "def get_ext_telefono(nombre):\n",
    "    print(f\"Tool para conocer la extensión teléfonica del personal {nombre}\")\n",
    "    name = nombre.lower()\n",
    "    return ext_tele.get(name, \"Unknown\")"
   ]
  },
  {
   "cell_type": "code",
   "execution_count": 5,
   "id": "2bbe77a8-32ae-446d-9978-376587a14ac7",
   "metadata": {},
   "outputs": [],
   "source": [
    "# Función:\n",
    "\n",
    "telefono_function = {\n",
    "    \"name\": \"get_ext_telefono\",\n",
    "    \"description\": \"Obtén la extensión teléfonica del personal. Llame a esto siempre que necesite saber la extensión de teléfono, por ejemplo, cuando un cliente pregunte '¿Cual es la extensión teléfonica?'\",\n",
    "    \"parameters\": {\n",
    "        \"type\": \"object\",\n",
    "        \"properties\": {\n",
    "            \"nombre\": {\n",
    "                \"type\": \"string\",\n",
    "                \"description\": \"La extensión teléfonica del empleado que quiere comunicarse\",\n",
    "            },\n",
    "        },\n",
    "        \"required\": [\"nombre\"],\n",
    "        \"additionalProperties\": False\n",
    "    }\n",
    "}"
   ]
  },
  {
   "cell_type": "code",
   "execution_count": 6,
   "id": "762a9fca-f9cf-4e69-9399-720b55abdd4a",
   "metadata": {},
   "outputs": [],
   "source": [
    "# And this is included in a list of tools:\n",
    "\n",
    "tools = [{\"type\": \"function\", \"function\": telefono_function}]"
   ]
  },
  {
   "cell_type": "code",
   "execution_count": 84,
   "id": "317a106b-769b-47f1-a85b-db4c53016f02",
   "metadata": {},
   "outputs": [],
   "source": [
    "def chat(message, history, temp, model):\n",
    "    messages = [{\"role\": \"system\", \"content\": system_message}] + history + [{\"role\": \"user\", \"content\": message}]\n",
    "    if model == \"Chatgpt\":\n",
    "        response = openai.chat.completions.create(model=MODEL, messages=messages, tools=tools, temperature = temp)\n",
    "        if response.choices[0].finish_reason==\"tool_calls\":\n",
    "            message = response.choices[0].message\n",
    "            response, nombre = handle_tool_call(message)\n",
    "            messages.append(message)\n",
    "            messages.append(response)\n",
    "            response = openai.chat.completions.create(model=MODEL, messages=messages)\n",
    "    \n",
    "        return response.choices[0].message.content\n",
    "    else:\n",
    "        # La llamada de Tools de Ollama no funciona correctamente, trate por todos lados :(\n",
    "        response = ollama.chat(model=\"llama3.1\",messages=messages)\n",
    "        return response['message']['content']    "
   ]
  },
  {
   "cell_type": "code",
   "execution_count": 33,
   "id": "e7dd4baf-a175-4d4a-88a3-63c966ca2a62",
   "metadata": {
    "jupyter": {
     "source_hidden": true
    }
   },
   "outputs": [],
   "source": [
    "# We have to write that function handle_tool_call:\n",
    "\n",
    "def handle_tool_call(message):\n",
    "    tool_call = message.tool_calls[0]\n",
    "    arguments = json.loads(tool_call.function.arguments)\n",
    "    nombre = arguments.get('nombre')\n",
    "    ext = get_ext_telefono(nombre)\n",
    "    response = {\n",
    "        \"role\": \"tool\",\n",
    "        \"content\": json.dumps({\"nombre\": nombre,\"extensión\": ext}),\n",
    "        \"tool_call_id\": tool_call.id\n",
    "    }\n",
    "    return response, nombre"
   ]
  },
  {
   "cell_type": "code",
   "execution_count": 85,
   "id": "4472952b-4608-4cd7-8740-ff3177da6295",
   "metadata": {},
   "outputs": [
    {
     "name": "stdout",
     "output_type": "stream",
     "text": [
      "* Running on local URL:  http://127.0.0.1:7897\n",
      "\n",
      "To create a public link, set `share=True` in `launch()`.\n"
     ]
    },
    {
     "data": {
      "text/html": [
       "<div><iframe src=\"http://127.0.0.1:7897/\" width=\"100%\" height=\"500\" allow=\"autoplay; camera; microphone; clipboard-read; clipboard-write;\" frameborder=\"0\" allowfullscreen></iframe></div>"
      ],
      "text/plain": [
       "<IPython.core.display.HTML object>"
      ]
     },
     "metadata": {},
     "output_type": "display_data"
    },
    {
     "data": {
      "text/plain": []
     },
     "execution_count": 85,
     "metadata": {},
     "output_type": "execute_result"
    },
    {
     "name": "stdout",
     "output_type": "stream",
     "text": [
      "Temp:0.6\n",
      "Modelo:Chatgpt\n",
      "Tool para conocer la extensión teléfonica del personal Carlos Caceres\n",
      "Temp:0.6\n",
      "Modelo:Llama3.1\n"
     ]
    }
   ],
   "source": [
    "# Aplicando stream en Gradio\n",
    "def slow_echo(message, history, temp, model):\n",
    "    print (\"Temp:\" + str(temp))\n",
    "    print (\"Modelo:\" + model)\n",
    "    stream = chat(message, history, temp,model)\n",
    "    for i in range(len(stream)):\n",
    "        time.sleep(0.05)\n",
    "        yield stream[: i + 1]\n",
    "        \n",
    "\n",
    "with gr.Blocks() as demo:\n",
    "    with gr.Row():\n",
    "        with gr.Column():\n",
    "            gr.Markdown(\"<center><h1>ChatBot en aprendizaje</h1></center>\")\n",
    "            gr.ChatInterface(\n",
    "                slow_echo,\n",
    "                type=\"messages\",\n",
    "                show_progress = True,\n",
    "                additional_inputs = [\n",
    "                    gr.Slider(0, 1,value = 0.6,step = 0.1,interactive = True,label = \"Desliza para graduar la respuesta\",),\n",
    "                    gr.Dropdown([\"Chatgpt\", \"Llama3.1\"], label=\"Modelo\", info=\"Seleccione el modelo\")\n",
    "                ]\n",
    "            )\n",
    "demo.launch()\n"
   ]
  }
 ],
 "metadata": {
  "kernelspec": {
   "display_name": "Python 3 (ipykernel)",
   "language": "python",
   "name": "python3"
  },
  "language_info": {
   "codemirror_mode": {
    "name": "ipython",
    "version": 3
   },
   "file_extension": ".py",
   "mimetype": "text/x-python",
   "name": "python",
   "nbconvert_exporter": "python",
   "pygments_lexer": "ipython3",
   "version": "3.11.11"
  }
 },
 "nbformat": 4,
 "nbformat_minor": 5
}
