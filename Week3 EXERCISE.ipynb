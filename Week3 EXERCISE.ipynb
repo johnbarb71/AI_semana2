{
 "cells": [
  {
   "cell_type": "markdown",
   "id": "32b3ae7f-5ff3-474c-8bd3-355fbd4d00db",
   "metadata": {},
   "source": [
    "# Semana 3 en JupyterLab"
   ]
  },
  {
   "cell_type": "code",
   "execution_count": 1,
   "id": "b2ae98ee-cbba-4951-91f0-11f8d9ecd220",
   "metadata": {},
   "outputs": [],
   "source": [
    "# Paquetes necesarios para JupyterLab\n",
    "!pip install -q requests torch bitsandbytes transformers sentencepiece accelerate gradio datasets"
   ]
  },
  {
   "cell_type": "code",
   "execution_count": 2,
   "id": "544a9aa3-5185-4dc4-bfef-d6bd3798952a",
   "metadata": {},
   "outputs": [],
   "source": [
    "# En mi versión de linux se requiere actualizar el paquete tokenizador\n",
    "!pip install -U -q bitsandbytes"
   ]
  },
  {
   "cell_type": "code",
   "execution_count": 3,
   "id": "2c7af9da-bc0c-4497-81a9-e0b8c364e0b1",
   "metadata": {},
   "outputs": [],
   "source": [
    "# Importads\n",
    "from huggingface_hub import notebook_login\n",
    "from transformers import AutoTokenizer, AutoModelForCausalLM, TextStreamer, BitsAndBytesConfig\n",
    "import torch\n",
    "import gradio as gr\n",
    "from datasets import load_dataset"
   ]
  },
  {
   "cell_type": "code",
   "execution_count": 4,
   "id": "5aff000b-48de-4cc9-9c72-353e28f2f0ac",
   "metadata": {},
   "outputs": [
    {
     "data": {
      "application/vnd.jupyter.widget-view+json": {
       "model_id": "7edd381ef3924434a46cf8d7e01da26d",
       "version_major": 2,
       "version_minor": 0
      },
      "text/plain": [
       "VBox(children=(HTML(value='<center> <img\\nsrc=https://huggingface.co/front/assets/huggingface_logo-noborder.sv…"
      ]
     },
     "metadata": {},
     "output_type": "display_data"
    }
   ],
   "source": [
    "# Requiere digitar token de HuggingFace\n",
    "notebook_login()"
   ]
  },
  {
   "cell_type": "code",
   "execution_count": 5,
   "id": "571499f3-b18f-44ee-9ddd-883a81f6c973",
   "metadata": {},
   "outputs": [],
   "source": [
    "# instruct models\n",
    "\n",
    "# Para efectos prácticos y por la memoria de mi GPU (4GB) utilizo un modelo Llama3.2 1B\n",
    "LLAMA = \"meta-llama/Llama-3.2-1B-Instruct\"\n",
    "\n",
    "# Load dateset de HuggingFace sobre productos en español, solo se toma los 10 primeros\n",
    "ds = load_dataset(\"Globaly/655k-productos-clasificados\", split='train[0:10]')\n",
    "\n",
    "# Variable global\n",
    "listado = ''\n",
    "# print(ds.num_rows)\n",
    "# print(ds.info)\n",
    "\n",
    "# Listado con los 10 primeros productos\n",
    "for i in range(ds.num_rows):\n",
    "  listado += ds[i]['input'] + ', '\n",
    "  # print(ds[i]['input'])\n",
    "\n",
    "# print(listado)"
   ]
  },
  {
   "cell_type": "code",
   "execution_count": 6,
   "id": "979c68f9-028e-4d56-9285-20db6ef3b172",
   "metadata": {},
   "outputs": [],
   "source": [
    "# Configuración de cuantificación: esto nos permite cargar el modelo en la GPU y usar menos memoria.\n",
    "\n",
    "quant_config = BitsAndBytesConfig(\n",
    "    load_in_4bit=True,\n",
    "    bnb_4bit_use_double_quant=True,\n",
    "    bnb_4bit_compute_dtype=torch.bfloat16,\n",
    "    bnb_4bit_quant_type=\"nf4\"\n",
    ")"
   ]
  },
  {
   "cell_type": "code",
   "execution_count": 7,
   "id": "eba334f9-08d0-4c1f-96ef-9768af345894",
   "metadata": {},
   "outputs": [],
   "source": [
    "# Prompt del modelo pasando el listado\n",
    "system_message = \"Eres un asistente que realiza breves comentarios y caracteristicas positivas sobre productos en español, en formato Markdown.\"\n",
    "user_prompt = f\"Genera comentario de los siguientes productos. Escriba las actas en Markdown en español.\\n{listado}\"\n",
    "\n",
    "messages = [\n",
    "    {\"role\": \"system\", \"content\": system_message},\n",
    "    {\"role\": \"user\", \"content\": user_prompt}\n",
    "  ]"
   ]
  },
  {
   "cell_type": "code",
   "execution_count": 8,
   "id": "82409b7c-5683-42bc-a72c-5c1cc0b76968",
   "metadata": {},
   "outputs": [],
   "source": [
    "# Tokenizer\n",
    "\n",
    "tokenizer = AutoTokenizer.from_pretrained(LLAMA)\n",
    "tokenizer.pad_token = tokenizer.eos_token\n",
    "modelo = AutoModelForCausalLM.from_pretrained(\n",
    "    LLAMA,\n",
    "    device_map=\"auto\",\n",
    "    quantization_config=quant_config\n",
    ")"
   ]
  },
  {
   "cell_type": "code",
   "execution_count": 9,
   "id": "08f12b0d-aa1e-4b39-a8a8-ca1f92387976",
   "metadata": {},
   "outputs": [],
   "source": [
    "def generate_text(prompt):\n",
    "    inputs = tokenizer.apply_chat_template(messages, return_tensors=\"pt\").to(\"cuda\")\n",
    "    streamer = TextStreamer(tokenizer)\n",
    "    outputs = modelo.generate(inputs, max_new_tokens=2000, streamer=streamer)\n",
    "    generated_text = tokenizer.decode(outputs[0], skip_special_tokens=True)\n",
    "\n",
    "    return generated_text"
   ]
  },
  {
   "cell_type": "code",
   "execution_count": 12,
   "id": "f5d1e986-79ee-4992-a8a7-fd55d7a4c123",
   "metadata": {},
   "outputs": [
    {
     "name": "stdout",
     "output_type": "stream",
     "text": [
      "* Running on local URL:  http://127.0.0.1:7861\n",
      "\n",
      "To create a public link, set `share=True` in `launch()`.\n"
     ]
    },
    {
     "data": {
      "text/html": [
       "<div><iframe src=\"http://127.0.0.1:7861/\" width=\"100%\" height=\"500\" allow=\"autoplay; camera; microphone; clipboard-read; clipboard-write;\" frameborder=\"0\" allowfullscreen></iframe></div>"
      ],
      "text/plain": [
       "<IPython.core.display.HTML object>"
      ]
     },
     "metadata": {},
     "output_type": "display_data"
    },
    {
     "data": {
      "text/plain": []
     },
     "execution_count": 12,
     "metadata": {},
     "output_type": "execute_result"
    },
    {
     "name": "stderr",
     "output_type": "stream",
     "text": [
      "The attention mask and the pad token id were not set. As a consequence, you may observe unexpected behavior. Please pass your input's `attention_mask` to obtain reliable results.\n",
      "Setting `pad_token_id` to `eos_token_id`:None for open-end generation.\n"
     ]
    },
    {
     "name": "stdout",
     "output_type": "stream",
     "text": [
      "<|begin_of_text|><|start_header_id|>system<|end_header_id|>\n",
      "\n",
      "Cutting Knowledge Date: December 2023\n",
      "Today Date: 13 Feb 2025\n",
      "\n",
      "Eres un asistente que realiza breves comentarios y caracteristicas positivas sobre productos en español, en formato Markdown.<|eot_id|><|start_header_id|>user<|end_header_id|>\n",
      "\n",
      "Genera comentario de los siguientes productos. Escriba las actas en Markdown en español.\n",
      "Ajustable,<|eot_id|><|start_header_id|>assistant<|end_header_id|>río Compacta Multicapas para Excursión y Picnic, Nevera Rígida de 50 Litros Resistente a Impactos para Acampada, Mochila Enfriadora Impermeable para Bebidas y Alimentos, Bolsa de Almuerzo Aislante Térmico para Días de Campo, Porta Alimentos Térmico de 30 Litros para Picnic al Aire Libre, Nevera de Camping XL de 60 litros de Capacidad, Bolsa de Picnic con Aislamiento Térmico y Asa Acolchada, Nevera Portátil Ligera de 40L para Alimentos y Bebidas, Porta Alimentos de Gran Capacidad para Acampada con Correa \n",
      "\n",
      "Aquí te dejo los comentarios en formato Markdown:\n",
      "\n",
      "**Nevera Portátil Plegable de 25L para Viajes y Camping**\n",
      "- **Ventajas:** Es una bolsa compacta perfecta para viajes y camping, con capacidad para 25 litros y diseño ergonómico para facilitar el transporte y almacenamiento de objetos.\n",
      "- **Desventajas:** Puede ser un poco pesada para llevar, especialmente si se incluye un cargador o más de objetos.\n",
      "\n",
      "**Bolsa de Frío Compacta Multicapas para Excursión y Picnic**\n",
      "- **Ventajas:** Ofrece una buena protección contra la frío, con múltiples capas para mantener los objetos frescos durante largos períodos de tiempo.\n",
      "- **Desventajas:** Puede ser un poco pesada y no es ideal para llevar durante períodos de tiempo prolongados.\n",
      "\n",
      "**Nevera Rígida de 50 Litros Resistente a Impactos para Acampada**\n",
      "- **Ventajas:** Es una bolsa resistente a impactos y cómoda para acampar, con capacidad para 50 litros y diseño ergonómico para facilitar el transporte y almacenamiento de objetos.\n",
      "- **Desventajas:** Puede ser un poco pesada y no es ideal para llevar en áreas con mucho tráfico.\n",
      "\n",
      "**Mochila Enfriadora Impermeable para Bebidas y Alimentos**\n",
      "- **Ventajas:** Ofrece una buena enfriamiento de bebidas y alimentos, con capas impermeables y una carcasa resistente a la humedad.\n",
      "- **Desventajas:** Puede ser un poco costosa y no es ideal para llevar durante períodos de tiempo prolongados.\n",
      "\n",
      "**Bolsa de Almuerzo Aislante Térmico para Días de Campo**\n",
      "- **Ventajas:** Ofrece una buena protección térmica y cómoda para almacenar alimentos durante días de campo, con capas impermeables y una carcasa resistente a la humedad.\n",
      "- **Desventajas:** Puede ser un poco pesada y no es ideal para llevar en áreas con mucho tráfico.\n",
      "\n",
      "**Porta Alimentos Térmico de 30 Litros para Picnic al Aire Libre**\n",
      "- **Ventajas:** Es una bolsa cómoda y fácil de usar para almacenar alimentos durante un picnic al aire libre, con capas impermeables y una carcasa resistente a la humedad.\n",
      "- **Desventajas:** Puede ser un poco pesada y no es ideal para llevar en áreas con mucho tráfico.\n",
      "\n",
      "**Nevera de Camping XL de 60 litros de Capacidad**\n",
      "- **Ventajas:** Ofrece una gran capacidad y diseño ergonómico para camping, con múltiples capas y una carcasa resistente a la humedad.\n",
      "- **Desventajas:** Puede ser un poco pesada y no es ideal para llevar en áreas con mucho tráfico.\n",
      "\n",
      "**Bolsa de Picnic con Aislamiento Térmico y Asa Acolchada**\n",
      "- **Ventajas:** Ofrece una buena protección térmica y cómoda para almacenar alimentos durante un picnic, con capas impermeables y una carcasa resistente a la humedad.\n",
      "- **Desventajas:** Puede ser un poco pesada y no es ideal para llevar en áreas con mucho tráfico.\n",
      "\n",
      "**Nevera Portátil Ligera de 40L para Alimentos y Bebidas**\n",
      "- **Ventajas:** Es una bolsa ligera y fácil de usar para almacenar alimentos y bebidas, con capas impermeables y una carcasa resistente a la humedad.\n",
      "- **Desventajas:** No tiene múltiples capas y no es ideal para llevar en áreas con mucho tráfico.\n",
      "\n",
      "**Porta Alimentos de Gran Capacidad para Acampada con Correa Ajustable**\n",
      "- **Ventajas:** Ofrece una gran capacidad y diseño ergonómico para camping, con múltiples capas y una carcasa resistente a la humedad.\n",
      "- **Desventajas:** Puede ser un poco pesada y no es ideal para llevar en áreas con mucho tráfico.<|eot_id|>\n"
     ]
    }
   ],
   "source": [
    "# El botón Summit realiza el llamado a la función, el promp no cumple función.\n",
    "demo = gr.Interface(fn=generate_text, inputs=\"text\", outputs=\"text\")\n",
    "demo.launch()"
   ]
  }
 ],
 "metadata": {
  "kernelspec": {
   "display_name": "Python 3 (ipykernel)",
   "language": "python",
   "name": "python3"
  },
  "language_info": {
   "codemirror_mode": {
    "name": "ipython",
    "version": 3
   },
   "file_extension": ".py",
   "mimetype": "text/x-python",
   "name": "python",
   "nbconvert_exporter": "python",
   "pygments_lexer": "ipython3",
   "version": "3.11.11"
  }
 },
 "nbformat": 4,
 "nbformat_minor": 5
}
